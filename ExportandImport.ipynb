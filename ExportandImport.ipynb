{
  "nbformat": 4,
  "nbformat_minor": 0,
  "metadata": {
    "colab": {
      "provenance": [],
      "authorship_tag": "ABX9TyMEzPlAXBtcl7BxMWBNA+KZ",
      "include_colab_link": true
    },
    "kernelspec": {
      "name": "python3",
      "display_name": "Python 3"
    },
    "language_info": {
      "name": "python"
    }
  },
  "cells": [
    {
      "cell_type": "markdown",
      "metadata": {
        "id": "view-in-github",
        "colab_type": "text"
      },
      "source": [
        "<a href=\"https://colab.research.google.com/github/Tankasala25/pandas/blob/main/ExportandImport.ipynb\" target=\"_parent\"><img src=\"https://colab.research.google.com/assets/colab-badge.svg\" alt=\"Open In Colab\"/></a>"
      ]
    },
    {
      "cell_type": "code",
      "execution_count": 1,
      "metadata": {
        "id": "YuUaUV5KUAJT"
      },
      "outputs": [],
      "source": [
        "import pandas as pd"
      ]
    },
    {
      "cell_type": "code",
      "source": [
        "\n",
        "import google.colab\n",
        "google.colab.drive.mount('/content/drive')"
      ],
      "metadata": {
        "colab": {
          "base_uri": "https://localhost:8080/"
        },
        "id": "DNz76BNkUFFz",
        "outputId": "34dcaf0a-c982-446a-ddd0-789b79c35b4b"
      },
      "execution_count": 2,
      "outputs": [
        {
          "output_type": "stream",
          "name": "stdout",
          "text": [
            "Mounted at /content/drive\n"
          ]
        }
      ]
    },
    {
      "cell_type": "markdown",
      "source": [
        "# 📘 Pandas Import & Export — All File Types\n",
        "\n",
        "This guide shows how to **import (read)** and **export (save)** data in Pandas across all major formats — **CSV, Excel, JSON, HTML, SQL, and Parquet** — with examples in one table.\n",
        "\n",
        "---\n",
        "\n",
        "## 🟢 Import (Reading Data)\n",
        "\n",
        "| 🧩 File Type | 🪄 Pandas Function | 📜 Example Code | 🌐 Description |\n",
        "|--------------|-------------------|----------------|----------------|\n",
        "| **CSV** | `pd.read_csv()` | ```python\\npd.read_csv('data.csv')\\n``` | Reads a comma-separated file into a DataFrame. |\n",
        "| **Excel** | `pd.read_excel()` | ```python\\npd.read_excel('data.xlsx', sheet_name='Sheet1')\\n``` | Reads data from Excel files (.xls, .xlsx). |\n",
        "| **JSON** | `pd.read_json()` | ```python\\npd.read_json('data.json')\\n``` | Reads structured JSON data. |\n",
        "| **HTML** | `pd.read_html()` | ```python\\npd.read_html('https://example.com/table.html')\\n``` | Extracts tables from an HTML page into DataFrames. |\n",
        "| **SQL** | `pd.read_sql()` | ```python\\nimport sqlite3\\nconn = sqlite3.connect('db.sqlite3')\\npd.read_sql('SELECT * FROM my_table', conn)\\n``` | Reads tables or queries from a SQL database. |\n",
        "| **Parquet** | `pd.read_parquet()` | ```python\\npd.read_parquet('data.parquet')\\n``` | Reads efficient columnar storage files (used for big data). |\n",
        "\n",
        "📌 **Online Example:**\n",
        "```python\n",
        "df = pd.read_csv('https://raw.githubusercontent.com/mwaskom/seaborn-data/master/iris.csv')\n"
      ],
      "metadata": {
        "id": "OvUucOYRW5QZ"
      }
    },
    {
      "cell_type": "markdown",
      "source": [
        "## 🔵 Export (Saving Data)\n",
        "\n",
        "| 💾 File Type | ⚙️ Pandas Function | 📜 Example Code | 🧠 Description |\n",
        "|--------------|--------------------|-----------------|----------------|\n",
        "| **CSV** | `to_csv()` | ```python\\ndf.to_csv('output.csv', index=False)\\n``` | Saves DataFrame as CSV (default separator = comma). |\n",
        "| **Excel** | `to_excel()` | ```python\\ndf.to_excel('output.xlsx', sheet_name='Sheet1', index=False)\\n``` | Exports DataFrame to Excel with optional sheet name. |\n",
        "| **JSON** | `to_json()` | ```python\\ndf.to_json('output.json', orient='records', indent=4)\\n``` | Converts DataFrame to JSON format. |\n",
        "| **HTML** | `to_html()` | ```python\\ndf.to_html('output.html', index=False)\\n``` | Saves DataFrame as an HTML table. |\n",
        "| **SQL** | `to_sql()` | ```python\\nimport sqlite3\\nconn = sqlite3.connect('db.sqlite3')\\ndf.to_sql('my_table', conn, if_exists='replace', index=False)\\n``` | Writes data to a SQL database table. |\n",
        "| **Parquet** | `to_parquet()` | ```python\\ndf.to_parquet('output.parquet', index=False)\\n``` | Saves DataFrame in Parquet format (optimized for speed). |\n"
      ],
      "metadata": {
        "id": "5d4CWvdMX7VW"
      }
    }
  ]
}