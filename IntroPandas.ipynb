{
  "nbformat": 4,
  "nbformat_minor": 0,
  "metadata": {
    "colab": {
      "provenance": [],
      "authorship_tag": "ABX9TyMCjLomLluffgDc8MiiA5NA",
      "include_colab_link": true
    },
    "kernelspec": {
      "name": "python3",
      "display_name": "Python 3"
    },
    "language_info": {
      "name": "python"
    }
  },
  "cells": [
    {
      "cell_type": "markdown",
      "metadata": {
        "id": "view-in-github",
        "colab_type": "text"
      },
      "source": [
        "<a href=\"https://colab.research.google.com/github/Tankasala25/pandas/blob/main/IntroPandas.ipynb\" target=\"_parent\"><img src=\"https://colab.research.google.com/assets/colab-badge.svg\" alt=\"Open In Colab\"/></a>"
      ]
    },
    {
      "cell_type": "markdown",
      "source": [
        "# 🐼 Introduction to Pandas\n",
        "\n",
        "**Pandas** is a popular open-source Python library used for **data analysis and manipulation**.  \n",
        "It helps you work efficiently with structured data — like spreadsheets, tables, or database results.\n",
        "\n",
        "---\n",
        "\n",
        "## 📦 Why Pandas is Useful\n",
        "- Allows easy handling of **tabular data** (rows and columns).  \n",
        "- Simplifies tasks like **cleaning, filtering, grouping, merging, and transforming** data.  \n",
        "- Works seamlessly with **NumPy**, **Matplotlib**, and **Scikit-Learn**.  \n",
        "- Supports multiple file formats — **CSV, Excel, JSON, SQL, Parquet**, and more.  \n",
        "- Highly optimized for **speed and memory efficiency**.\n",
        "\n",
        "---\n",
        "\n",
        "## 🧩 Core Data Structures\n",
        "\n",
        "### 1️⃣ Series\n",
        "- A **one-dimensional** labeled array.  \n",
        "- Can hold any data type (integers, strings, floats, etc.).  \n",
        "- Similar to a **single column** in an Excel sheet or database table.\n",
        "\n",
        "### 2️⃣ DataFrame\n",
        "- A **two-dimensional** labeled data structure (rows and columns).  \n",
        "- Think of it like a **spreadsheet or SQL table**.  \n",
        "- Each column in a DataFrame is actually a Series.\n",
        "\n",
        "---\n",
        "\n",
        "## ⚙️ Key Features\n",
        "- **Data alignment:** Automatically aligns data by labels.  \n",
        "- **Data cleaning:** Handles missing or inconsistent data easily.  \n",
        "- **Filtering and selection:** Extracts specific rows and columns efficiently.  \n",
        "- **Aggregation and grouping:** Summarizes large datasets with ease.  \n",
        "- **Merging and joining:** Combines multiple datasets seamlessly.  \n",
        "- **Reshaping:** Allows pivoting and reorganizing data structure.  \n",
        "- **Time-series handling:** Offers advanced tools for date and time data.\n",
        "\n",
        "---\n",
        "\n",
        "## 🧠 Applications\n",
        "- Data preprocessing in **machine learning pipelines**.  \n",
        "- **Statistical analysis** and **data visualization**.  \n",
        "- **Exploratory data analysis (EDA)** to identify patterns and trends.  \n",
        "- Reading and writing large datasets from multiple sources.  \n",
        "- Used widely in **finance, healthcare, marketing, and research**.\n",
        "\n",
        "---\n",
        "\n",
        "## 💡 Summary\n",
        "- Pandas simplifies complex data operations in Python.  \n",
        "- Provides high-level, intuitive commands for everyday data tasks.  \n",
        "- The two main structures — **Series** and **DataFrame** — make it easy to organize and analyze data.  \n",
        "\n",
        "---\n",
        "\n",
        "👉 **Official Documentation:**  \n",
        "[https://pandas.pydata.org/docs/](https://pandas.pydata.org/docs/)\n"
      ],
      "metadata": {
        "id": "aU7PAwGjmJ3c"
      }
    },
    {
      "cell_type": "code",
      "execution_count": null,
      "metadata": {
        "id": "YiDVjhoRSIcA"
      },
      "outputs": [],
      "source": [
        "#how to import pandas library\n",
        "import pandas as pd"
      ]
    }
  ]
}